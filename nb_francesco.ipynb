{
 "cells": [
  {
   "cell_type": "code",
   "execution_count": 61,
   "metadata": {},
   "outputs": [],
   "source": [
    "import os\n",
    "from dotenv import load_dotenv\n",
    "from py2neo import Graph\n",
    "\n",
    "load_dotenv()\n",
    "password = os.getenv('DBPASS')\n",
    "\n",
    "graph = Graph(\"bolt://localhost:7687\", auth=(\"neo4j\", password))"
   ]
  },
  {
   "cell_type": "code",
   "execution_count": 113,
   "metadata": {},
   "outputs": [
    {
     "data": {
      "text/plain": [
       "52225"
      ]
     },
     "execution_count": 113,
     "metadata": {},
     "output_type": "execute_result"
    }
   ],
   "source": [
    "query = \"\"\"\n",
    "MATCH (i:Issuelist {name: \"Umwelt\"})<-[:ABOUT]-(b:Bill:Motion)<-[:SPONSORS]-(p:Person)-[:GAVE]->(s:Speech)\n",
    "RETURN DISTINCT p, s;\n",
    "\"\"\"\n",
    "\n",
    "speeches1 = graph.run(query).data()\n",
    "len(speeches1)"
   ]
  },
  {
   "cell_type": "code",
   "execution_count": 119,
   "metadata": {},
   "outputs": [
    {
     "data": {
      "text/plain": [
       "[{'p': Node('Person', 'Unique Person', date_birth=Date(1941, 9, 15), first_name='Ruedi', gender='m', last_name='Aeschbacher', uid=449),\n",
       "  's': Node('Inconsistent Timestamp', 'Speech', 'Transcript', language_of_text='DE', length=1204, name='Aeschbacher Ruedi', order_stamp=25, role='For the committee', time_end=DateTime(2009, 4, 30, 8, 39, 39.0), time_start=DateTime(2009, 4, 30, 8, 37, 52.0), uid='166224')},\n",
       " {'p': Node('Person', 'Unique Person', date_birth=Date(1941, 9, 15), first_name='Ruedi', gender='m', last_name='Aeschbacher', uid=449),\n",
       "  's': Node('Inconsistent Timestamp', 'Speech', 'Transcript', language_of_text='DE', length=1115, name='Aeschbacher Ruedi', order_stamp=14, role='For the committee', time_end=DateTime(2009, 4, 30, 8, 27, 15.0), time_start=DateTime(2009, 4, 30, 8, 25, 43.0), uid='166238')},\n",
       " {'p': Node('Person', 'Unique Person', date_birth=Date(1941, 9, 15), first_name='Ruedi', gender='m', last_name='Aeschbacher', uid=449),\n",
       "  's': Node('Inconsistent Timestamp', 'Speech', 'Transcript', language_of_text='DE', length=828, name='Aeschbacher Ruedi', order_stamp=5, role='For the committee', time_end=DateTime(2009, 4, 30, 8, 13, 8.0), time_start=DateTime(2009, 4, 30, 8, 11, 49.0), uid='166232')}]"
      ]
     },
     "execution_count": 119,
     "metadata": {},
     "output_type": "execute_result"
    }
   ],
   "source": [
    "speeches1[1:4]"
   ]
  },
  {
   "cell_type": "code",
   "execution_count": 115,
   "metadata": {},
   "outputs": [
    {
     "data": {
      "text/plain": [
       "140998"
      ]
     },
     "execution_count": 115,
     "metadata": {},
     "output_type": "execute_result"
    }
   ],
   "source": [
    "query = \"\"\"\n",
    "MATCH (i:Issuelist {name: \"Umwelt\"})<-[:ABOUT]-(b:Bill:Motion)<-[:SPONSORS]-(p:Person)-[:GAVE]->(s:Speech)\n",
    "RETURN DISTINCT b, p, s;\n",
    "\"\"\"\n",
    "\n",
    "speeches2 = graph.run(query).data()\n",
    "len(speeches2)"
   ]
  },
  {
   "cell_type": "code",
   "execution_count": 118,
   "metadata": {},
   "outputs": [
    {
     "data": {
      "text/plain": [
       "[{'b': Node('Bill', 'Motion', bill_number='08.3432', status='Resolved', title_de='Kein Handel mit Produkten aus kanadischer Robbenschlächterei', title_fr='Pas de commerce de produits issus des phoques massacrés au Canada', urgent=False),\n",
       "  'p': Node('Person', 'Unique Person', date_birth=Date(1941, 9, 15), first_name='Ruedi', gender='m', last_name='Aeschbacher', uid=449),\n",
       "  's': Node('Inconsistent Timestamp', 'Speech', 'Transcript', language_of_text='DE', length=1204, name='Aeschbacher Ruedi', order_stamp=25, role='For the committee', time_end=DateTime(2009, 4, 30, 8, 39, 39.0), time_start=DateTime(2009, 4, 30, 8, 37, 52.0), uid='166224')},\n",
       " {'b': Node('Bill', 'Motion', bill_number='08.3432', status='Resolved', title_de='Kein Handel mit Produkten aus kanadischer Robbenschlächterei', title_fr='Pas de commerce de produits issus des phoques massacrés au Canada', urgent=False),\n",
       "  'p': Node('Person', 'Unique Person', date_birth=Date(1941, 9, 15), first_name='Ruedi', gender='m', last_name='Aeschbacher', uid=449),\n",
       "  's': Node('Inconsistent Timestamp', 'Speech', 'Transcript', language_of_text='DE', length=1115, name='Aeschbacher Ruedi', order_stamp=14, role='For the committee', time_end=DateTime(2009, 4, 30, 8, 27, 15.0), time_start=DateTime(2009, 4, 30, 8, 25, 43.0), uid='166238')},\n",
       " {'b': Node('Bill', 'Motion', bill_number='08.3432', status='Resolved', title_de='Kein Handel mit Produkten aus kanadischer Robbenschlächterei', title_fr='Pas de commerce de produits issus des phoques massacrés au Canada', urgent=False),\n",
       "  'p': Node('Person', 'Unique Person', date_birth=Date(1941, 9, 15), first_name='Ruedi', gender='m', last_name='Aeschbacher', uid=449),\n",
       "  's': Node('Inconsistent Timestamp', 'Speech', 'Transcript', language_of_text='DE', length=828, name='Aeschbacher Ruedi', order_stamp=5, role='For the committee', time_end=DateTime(2009, 4, 30, 8, 13, 8.0), time_start=DateTime(2009, 4, 30, 8, 11, 49.0), uid='166232')}]"
      ]
     },
     "execution_count": 118,
     "metadata": {},
     "output_type": "execute_result"
    }
   ],
   "source": [
    "speeches2[1:4]"
   ]
  },
  {
   "cell_type": "code",
   "execution_count": 15,
   "metadata": {
    "scrolled": true
   },
   "outputs": [
    {
     "name": "stdout",
     "output_type": "stream",
     "text": [
      "305229\n",
      "328047\n",
      "327326\n",
      "327682\n",
      "326347\n",
      "325004\n",
      "322212\n",
      "322779\n",
      "319318\n",
      "306479\n"
     ]
    }
   ],
   "source": [
    "for s in speeches:\n",
    "    print(s[\"s\"][\"uid\"])"
   ]
  },
  {
   "cell_type": "code",
   "execution_count": 64,
   "metadata": {},
   "outputs": [],
   "source": [
    "query2 = \"\"\"\n",
    "MATCH (i:Issuelist {name: \"Umwelt\"})--(b:Bill)--(p:Person)--(pg:`Parliamentary Group`)\n",
    "RETURN DISTINCT b, p, pg;\n",
    "\"\"\"\n",
    "\n",
    "data = graph.run(query2).data()"
   ]
  },
  {
   "cell_type": "code",
   "execution_count": 65,
   "metadata": {},
   "outputs": [
    {
     "data": {
      "text/plain": [
       "{'b': Node('Bill', 'Postulate', bill_number='08.3325', status='Resolved', title_de='CO2-Kompensation. Einführung des Gold-Standard-Labels', title_fr=\"Compensations de CO2. Etudier l'application du label Gold Standard\", urgent=False),\n",
       " 'p': Node('Person', 'Unique Person', date_birth=Date(1952, 10, 21), first_name='Kathy', gender='f', last_name='Riklin', uid=502),\n",
       " 'pg': Node('Parliamentary Group', abbrev='C', name='Christlichdemokratische Fraktion', name_used_since=Date(1971, 1, 1))}"
      ]
     },
     "execution_count": 65,
     "metadata": {},
     "output_type": "execute_result"
    }
   ],
   "source": [
    "data[1]"
   ]
  },
  {
   "cell_type": "code",
   "execution_count": 58,
   "metadata": {
    "scrolled": true
   },
   "outputs": [
    {
     "data": {
      "text/plain": [
       "37918"
      ]
     },
     "execution_count": 58,
     "metadata": {},
     "output_type": "execute_result"
    }
   ],
   "source": [
    "len(data)"
   ]
  }
 ],
 "metadata": {
  "kernelspec": {
   "display_name": "Python 3 (ipykernel)",
   "language": "python",
   "name": "python3"
  },
  "language_info": {
   "codemirror_mode": {
    "name": "ipython",
    "version": 3
   },
   "file_extension": ".py",
   "mimetype": "text/x-python",
   "name": "python",
   "nbconvert_exporter": "python",
   "pygments_lexer": "ipython3",
   "version": "3.12.7"
  }
 },
 "nbformat": 4,
 "nbformat_minor": 4
}

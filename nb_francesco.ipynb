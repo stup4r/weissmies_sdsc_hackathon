{
 "cells": [
  {
   "cell_type": "code",
   "execution_count": 183,
   "metadata": {},
   "outputs": [],
   "source": [
    "import os\n",
    "import pandas as pd\n",
    "from dotenv import load_dotenv\n",
    "from py2neo import Graph\n",
    "\n",
    "load_dotenv()\n",
    "password = os.getenv('DBPASS')\n",
    "\n",
    "graph = Graph(\"bolt://localhost:7687\", auth=(\"neo4j\", password))"
   ]
  },
  {
   "cell_type": "code",
   "execution_count": 121,
   "metadata": {},
   "outputs": [
    {
     "data": {
      "text/plain": [
       "52225"
      ]
     },
     "execution_count": 121,
     "metadata": {},
     "output_type": "execute_result"
    }
   ],
   "source": [
    "# not really working yet\n",
    "#query = \"\"\"\n",
    "#MATCH (i:Issuelist {name: \"Umwelt\"})<-[:ABOUT]-(b:Bill:Motion)<-[:SPONSORS]-(p:Person)-[:GAVE]->(s:Speech)\n",
    "#RETURN DISTINCT p, s;\n",
    "#\"\"\"\n",
    "\n",
    "#speeches1 = graph.run(query).data()\n",
    "#len(speeches1)"
   ]
  },
  {
   "cell_type": "code",
   "execution_count": 147,
   "metadata": {},
   "outputs": [
    {
     "data": {
      "text/plain": [
       "{'p': Node('Person', 'Unique Person', date_birth=Date(1941, 9, 15), first_name='Ruedi', gender='m', last_name='Aeschbacher', uid=449),\n",
       " 's': Node('Inconsistent Timestamp', 'Speech', 'Transcript', language_of_text='DE', length=1204, name='Aeschbacher Ruedi', order_stamp=25, role='For the committee', time_end=DateTime(2009, 4, 30, 8, 39, 39.0), time_start=DateTime(2009, 4, 30, 8, 37, 52.0), uid='166224')}"
      ]
     },
     "execution_count": 147,
     "metadata": {},
     "output_type": "execute_result"
    }
   ],
   "source": [
    "#speeches1[1]"
   ]
  },
  {
   "cell_type": "code",
   "execution_count": 146,
   "metadata": {},
   "outputs": [
    {
     "data": {
      "text/plain": [
       "140998"
      ]
     },
     "execution_count": 146,
     "metadata": {},
     "output_type": "execute_result"
    }
   ],
   "source": [
    "#query = \"\"\"\n",
    "#MATCH (i:Issuelist {name: \"Umwelt\"})<-[:ABOUT]-(b:Bill:Motion)<-[:SPONSORS]-(p:Person)-[:GAVE]->(s:Speech)\n",
    "#RETURN DISTINCT b, p, s;\n",
    "#\"\"\"\n",
    "\n",
    "#speeches2 = graph.run(query).data()\n",
    "#len(speeches2)"
   ]
  },
  {
   "cell_type": "code",
   "execution_count": 131,
   "metadata": {
    "scrolled": true
   },
   "outputs": [
    {
     "data": {
      "text/plain": [
       "2.6998180947821924"
      ]
     },
     "execution_count": 131,
     "metadata": {},
     "output_type": "execute_result"
    }
   ],
   "source": [
    "#len(speeches2)/len(speeches1)"
   ]
  },
  {
   "cell_type": "code",
   "execution_count": 194,
   "metadata": {},
   "outputs": [
    {
     "data": {
      "text/html": [
       "<div>\n",
       "<style scoped>\n",
       "    .dataframe tbody tr th:only-of-type {\n",
       "        vertical-align: middle;\n",
       "    }\n",
       "\n",
       "    .dataframe tbody tr th {\n",
       "        vertical-align: top;\n",
       "    }\n",
       "\n",
       "    .dataframe thead th {\n",
       "        text-align: right;\n",
       "    }\n",
       "</style>\n",
       "<table border=\"1\" class=\"dataframe\">\n",
       "  <thead>\n",
       "    <tr style=\"text-align: right;\">\n",
       "      <th></th>\n",
       "      <th>issue</th>\n",
       "      <th>canton</th>\n",
       "      <th>chamber</th>\n",
       "      <th>num_bills</th>\n",
       "      <th>year</th>\n",
       "    </tr>\n",
       "  </thead>\n",
       "  <tbody>\n",
       "    <tr>\n",
       "      <th>0</th>\n",
       "      <td>Beschäftigung und Arbeit</td>\n",
       "      <td>Aargau</td>\n",
       "      <td>Nationalrat</td>\n",
       "      <td>49</td>\n",
       "      <td>2012</td>\n",
       "    </tr>\n",
       "    <tr>\n",
       "      <th>1</th>\n",
       "      <td>Beschäftigung und Arbeit</td>\n",
       "      <td>Aargau</td>\n",
       "      <td>Ständerat</td>\n",
       "      <td>24</td>\n",
       "      <td>2012</td>\n",
       "    </tr>\n",
       "    <tr>\n",
       "      <th>2</th>\n",
       "      <td>Beschäftigung und Arbeit</td>\n",
       "      <td>Aargau</td>\n",
       "      <td>Nationalrat</td>\n",
       "      <td>18</td>\n",
       "      <td>2013</td>\n",
       "    </tr>\n",
       "    <tr>\n",
       "      <th>3</th>\n",
       "      <td>Beschäftigung und Arbeit</td>\n",
       "      <td>Aargau</td>\n",
       "      <td>Nationalrat</td>\n",
       "      <td>47</td>\n",
       "      <td>2014</td>\n",
       "    </tr>\n",
       "    <tr>\n",
       "      <th>4</th>\n",
       "      <td>Beschäftigung und Arbeit</td>\n",
       "      <td>Aargau</td>\n",
       "      <td>Ständerat</td>\n",
       "      <td>4</td>\n",
       "      <td>2014</td>\n",
       "    </tr>\n",
       "    <tr>\n",
       "      <th>...</th>\n",
       "      <td>...</td>\n",
       "      <td>...</td>\n",
       "      <td>...</td>\n",
       "      <td>...</td>\n",
       "      <td>...</td>\n",
       "    </tr>\n",
       "    <tr>\n",
       "      <th>12207</th>\n",
       "      <td>Zivilrecht</td>\n",
       "      <td>Zürich</td>\n",
       "      <td>Nationalrat</td>\n",
       "      <td>148</td>\n",
       "      <td>2021</td>\n",
       "    </tr>\n",
       "    <tr>\n",
       "      <th>12208</th>\n",
       "      <td>Zivilrecht</td>\n",
       "      <td>Zürich</td>\n",
       "      <td>Nationalrat</td>\n",
       "      <td>184</td>\n",
       "      <td>2022</td>\n",
       "    </tr>\n",
       "    <tr>\n",
       "      <th>12209</th>\n",
       "      <td>Zivilrecht</td>\n",
       "      <td>Zürich</td>\n",
       "      <td>Ständerat</td>\n",
       "      <td>36</td>\n",
       "      <td>2022</td>\n",
       "    </tr>\n",
       "    <tr>\n",
       "      <th>12210</th>\n",
       "      <td>Zivilrecht</td>\n",
       "      <td>Zürich</td>\n",
       "      <td>Ständerat</td>\n",
       "      <td>12</td>\n",
       "      <td>2023</td>\n",
       "    </tr>\n",
       "    <tr>\n",
       "      <th>12211</th>\n",
       "      <td>Zivilrecht</td>\n",
       "      <td>Zürich</td>\n",
       "      <td>Nationalrat</td>\n",
       "      <td>116</td>\n",
       "      <td>2023</td>\n",
       "    </tr>\n",
       "  </tbody>\n",
       "</table>\n",
       "<p>12212 rows × 5 columns</p>\n",
       "</div>"
      ],
      "text/plain": [
       "                          issue  canton      chamber  num_bills  year\n",
       "0      Beschäftigung und Arbeit  Aargau  Nationalrat         49  2012\n",
       "1      Beschäftigung und Arbeit  Aargau    Ständerat         24  2012\n",
       "2      Beschäftigung und Arbeit  Aargau  Nationalrat         18  2013\n",
       "3      Beschäftigung und Arbeit  Aargau  Nationalrat         47  2014\n",
       "4      Beschäftigung und Arbeit  Aargau    Ständerat          4  2014\n",
       "...                         ...     ...          ...        ...   ...\n",
       "12207                Zivilrecht  Zürich  Nationalrat        148  2021\n",
       "12208                Zivilrecht  Zürich  Nationalrat        184  2022\n",
       "12209                Zivilrecht  Zürich    Ständerat         36  2022\n",
       "12210                Zivilrecht  Zürich    Ständerat         12  2023\n",
       "12211                Zivilrecht  Zürich  Nationalrat        116  2023\n",
       "\n",
       "[12212 rows x 5 columns]"
      ]
     },
     "execution_count": 194,
     "metadata": {},
     "output_type": "execute_result"
    }
   ],
   "source": [
    "query = \"\"\"\n",
    "MATCH (i:Issuelist)<-[:ABOUT]-(b:Bill)<-[:SPONSORS]-(p:Person)-[:REPRESENTS]->(c:Canton), \n",
    "    (p)-[:ELECTED_TO]->(ch:Chamber),\n",
    "    (b)-[:CONTAINS]->(d:`Chamber Debate`)\n",
    "    \n",
    "RETURN i.name AS issue, \n",
    "    c.name AS canton, \n",
    "    ch.name AS chamber,\n",
    "    COUNT(b) AS num_bills, \n",
    "    substring(toString(d.date_end), 0, 4) AS year\n",
    "    \n",
    "ORDER BY issue, canton, year;\n",
    "\"\"\"\n",
    "\n",
    "results = graph.run(query).data()\n",
    "df = pd.DataFrame(results)\n",
    "\n",
    "# Display the DataFrame as a table\n",
    "df"
   ]
  }
 ],
 "metadata": {
  "kernelspec": {
   "display_name": "Python 3 (ipykernel)",
   "language": "python",
   "name": "python3"
  },
  "language_info": {
   "codemirror_mode": {
    "name": "ipython",
    "version": 3
   },
   "file_extension": ".py",
   "mimetype": "text/x-python",
   "name": "python",
   "nbconvert_exporter": "python",
   "pygments_lexer": "ipython3",
   "version": "3.12.7"
  }
 },
 "nbformat": 4,
 "nbformat_minor": 4
}

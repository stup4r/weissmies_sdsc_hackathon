{
 "cells": [
  {
   "cell_type": "code",
   "execution_count": 1,
   "metadata": {},
   "outputs": [],
   "source": [
    "import os\n",
    "from dotenv import load_dotenv\n",
    "from py2neo import Graph\n",
    "load_dotenv()\n",
    "password = os.getenv('DBPASS')\n",
    "\n",
    "graph = Graph(\"bolt://localhost:7687\", auth=(\"neo4j\", password))"
   ]
  },
  {
   "cell_type": "code",
   "execution_count": 2,
   "metadata": {},
   "outputs": [],
   "source": [
    "query = \"\"\"\n",
    "MATCH (i:Issuelist {name: \"Umwelt\"})-[*1..5]-(s:Speech)\n",
    "RETURN DISTINCT s LIMIT 10;\n",
    "\"\"\"\n",
    "\n",
    "speeches = graph.run(query).data()"
   ]
  },
  {
   "cell_type": "code",
   "execution_count": 4,
   "metadata": {},
   "outputs": [
    {
     "name": "stdout",
     "output_type": "stream",
     "text": [
      "305229\n",
      "328047\n",
      "327326\n",
      "327682\n",
      "326347\n",
      "325004\n",
      "322212\n",
      "322779\n",
      "319318\n",
      "306479\n"
     ]
    }
   ],
   "source": [
    "for s in speeches:\n",
    "    print(s[\"s\"][\"uid\"])"
   ]
  }
 ],
 "metadata": {
  "kernelspec": {
   "display_name": ".venv",
   "language": "python",
   "name": "python3"
  },
  "language_info": {
   "codemirror_mode": {
    "name": "ipython",
    "version": 3
   },
   "file_extension": ".py",
   "mimetype": "text/x-python",
   "name": "python",
   "nbconvert_exporter": "python",
   "pygments_lexer": "ipython3",
   "version": "3.12.4"
  }
 },
 "nbformat": 4,
 "nbformat_minor": 2
}

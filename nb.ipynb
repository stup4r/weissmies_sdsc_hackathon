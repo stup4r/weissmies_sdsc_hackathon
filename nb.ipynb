{
 "cells": [
  {
   "cell_type": "code",
   "execution_count": 1,
   "metadata": {},
   "outputs": [],
   "source": [
    "import os\n",
    "from dotenv import load_dotenv\n",
    "from py2neo import Graph\n",
    "load_dotenv()\n",
    "password = os.getenv('DBPASS')\n",
    "\n",
    "graph = Graph(\"bolt://localhost:7687\", auth=(\"neo4j\", password))"
   ]
  },
  {
   "cell_type": "code",
   "execution_count": 193,
   "metadata": {},
   "outputs": [],
   "source": [
    "query = \"\"\"\n",
    "MATCH (i:Issuelist)<-[:ABOUT]-(b:Bill)<-[:SPONSORS]-(p:Person)-[:REPRESENTS]->(c:Canton), \n",
    "    (p)-[:ELECTED_TO]->(ch:Chamber)\n",
    "\n",
    "RETURN i.name AS issue, \n",
    "    c.abbrev AS canton, \n",
    "    ch.name AS chamber,\n",
    "    COUNT(DISTINCT(b)) AS num_bills,\n",
    "    (20 + substring(toString(b.bill_number), 0, 2)) AS year\n",
    "\n",
    "ORDER BY issue, canton, year;\n",
    "\"\"\"\n",
    "\n",
    "num_bills_result = graph.run(query).data()"
   ]
  },
  {
   "cell_type": "code",
   "execution_count": 194,
   "metadata": {},
   "outputs": [],
   "source": [
    "import json\n",
    "\n",
    "with open('mps_per_canton.json', 'r') as file:\n",
    "    adjustment_data = json.load(file)"
   ]
  },
  {
   "cell_type": "code",
   "execution_count": 195,
   "metadata": {},
   "outputs": [],
   "source": [
    "consolidated_data = {}\n",
    "\n",
    "for entry in num_bills_result:\n",
    "    issue = entry[\"issue\"]\n",
    "    canton = entry[\"canton\"]\n",
    "    year = entry[\"year\"]\n",
    "    chamber = entry[\"chamber\"]\n",
    "    num_bills = entry[\"num_bills\"]\n",
    "\n",
    "    key = (issue, canton, year)\n",
    "\n",
    "    if key not in consolidated_data:\n",
    "        consolidated_data[key] = {\n",
    "            \"issue\": issue,\n",
    "            \"canton\": canton,\n",
    "            \"year\": year,\n",
    "            \"num_bills_national_adj\": 0,\n",
    "            \"num_bills_state_adj\": 0\n",
    "        }\n",
    "\n",
    "    if chamber == \"Nationalrat\":\n",
    "        adjustment = adjustment_data[\"National_council\"].get(canton, 1)\n",
    "        consolidated_data[key][\"num_bills_national_adj\"] += num_bills / adjustment\n",
    "        consolidated_data[key][\"num_bills_national\"] = num_bills\n",
    "    elif chamber == \"Ständerat\":\n",
    "        adjustment = adjustment_data[\"Council_of_states\"].get(canton, 1)\n",
    "        consolidated_data[key][\"num_bills_state_adj\"] += num_bills / adjustment\n",
    "        consolidated_data[key][\"num_bills_state\"] = num_bills\n",
    "\n",
    "num_bills_adjusted_result = list(consolidated_data.values())\n",
    "\n",
    "# Add weight\n",
    "for d in num_bills_adjusted_result:\n",
    "    d[\"num_bills_adj\"] = (d[\"num_bills_national_adj\"] + d[\"num_bills_state_adj\"]) / 2"
   ]
  },
  {
   "cell_type": "code",
   "execution_count": 200,
   "metadata": {},
   "outputs": [],
   "source": [
    "query = \"\"\"\n",
    "MATCH (i:Issuelist)<-[:ABOUT]-(b:Bill)<-[:SPONSORS]-(p:Person)-[:REPRESENTS]->(c:Canton),\n",
    "      (pg: Party)<-[:MEMBER_OF]-(p)\n",
    "WITH i.name AS issue,\n",
    "     c.abbrev AS canton,\n",
    "     (20 + substring(toString(b.bill_number), 0, 2)) AS year,\n",
    "     pg.name AS parl_group,\n",
    "     b\n",
    "UNWIND labels(b) AS bill_label\n",
    "WITH issue, canton, year, parl_group, bill_label, COUNT(DISTINCT b) AS num_bills\n",
    "WHERE bill_label <> 'Bill' \n",
    "WITH issue, canton, year, parl_group, bill_label, num_bills\n",
    "RETURN issue, \n",
    "       canton, \n",
    "       year, \n",
    "       collect({group: parl_group, count: num_bills, label: bill_label}) AS group_data\n",
    "ORDER BY issue, canton, year;\n",
    "\"\"\"\n",
    "\n",
    "parl_group_result = graph.run(query).data()"
   ]
  },
  {
   "cell_type": "code",
   "execution_count": 201,
   "metadata": {},
   "outputs": [],
   "source": [
    "query = \"\"\"\n",
    "MATCH (i:Issuelist)<-[:ABOUT]-(b:Bill)<-[:SPONSORS]-(p:Person)-[:REPRESENTS]->(c:Canton)\n",
    "WITH i.name AS issue, \n",
    "     c.abbrev AS canton, \n",
    "     (20 + substring(toString(b.bill_number), 0, 2)) AS year, \n",
    "     b\n",
    "UNWIND labels(b) AS bill_label\n",
    "WITH issue, canton, year, bill_label, b\n",
    "WHERE bill_label <> 'Bill'\n",
    "WITH issue, canton, year, bill_label, COUNT(DISTINCT b) AS num_bills\n",
    "RETURN issue, \n",
    "       canton, \n",
    "       year, \n",
    "       collect({label: bill_label, count: num_bills}) AS bill_data\n",
    "ORDER BY issue, canton, year;\n",
    "\"\"\"\n",
    "\n",
    "bill_labels_result = graph.run(query).data()"
   ]
  },
  {
   "cell_type": "code",
   "execution_count": 202,
   "metadata": {},
   "outputs": [],
   "source": [
    "query = \"\"\"\n",
    "MATCH (i:Issuelist)<-[:ABOUT]-(b:Bill)<-[:SPONSORS]-(p:Person)-[:REPRESENTS]->(c:Canton)\n",
    "WITH i.name AS issue, \n",
    "     c.abbrev AS canton, \n",
    "     (20 + substring(toString(b.bill_number), 0, 2)) AS year,\n",
    "     p.uid AS id,\n",
    "     p.first_name AS first_name, \n",
    "     p.last_name AS last_name,\n",
    "     p.gender AS gender,\n",
    "     p.native_language AS native_language,\n",
    "     COUNT(DISTINCT b) AS num_bills\n",
    "ORDER BY issue, canton, year, num_bills DESC\n",
    "WITH issue, canton, year, COLLECT({id: id, first_name: first_name, last_name: last_name, count: num_bills, gender: gender, native_language: native_language}) AS top_persons\n",
    "RETURN issue, \n",
    "       canton, \n",
    "       year, \n",
    "       top_persons\n",
    "ORDER BY issue, canton, year;\n",
    "\"\"\"\n",
    "\n",
    "bill_persons_result = graph.run(query).data()"
   ]
  },
  {
   "cell_type": "code",
   "execution_count": 203,
   "metadata": {},
   "outputs": [],
   "source": [
    "from collections import defaultdict\n",
    "\n",
    "def join_dicts_on_keys(lists, keys):\n",
    "    joined_dict = defaultdict(dict)\n",
    "    \n",
    "    for lst in lists:\n",
    "        for d in lst:\n",
    "            key = tuple(d[k] for k in keys)\n",
    "            values_without_keys = {k: v for k, v in d.items() if k not in keys}\n",
    "            joined_dict[key].update(values_without_keys)\n",
    "    \n",
    "    return [dict(**dict(zip(keys, key)), **values) for key, values in joined_dict.items()]\n",
    "\n",
    "result = join_dicts_on_keys([num_bills_adjusted_result, parl_group_result, bill_labels_result, bill_persons_result], keys=[\"canton\", \"year\", \"issue\"])"
   ]
  },
  {
   "cell_type": "code",
   "execution_count": 204,
   "metadata": {},
   "outputs": [],
   "source": [
    "with open('data.json', 'w') as file:\n",
    "    json.dump(result, file, indent=4)"
   ]
  }
 ],
 "metadata": {
  "kernelspec": {
   "display_name": ".venv",
   "language": "python",
   "name": "python3"
  },
  "language_info": {
   "codemirror_mode": {
    "name": "ipython",
    "version": 3
   },
   "file_extension": ".py",
   "mimetype": "text/x-python",
   "name": "python",
   "nbconvert_exporter": "python",
   "pygments_lexer": "ipython3",
   "version": "3.12.4"
  }
 },
 "nbformat": 4,
 "nbformat_minor": 2
}
